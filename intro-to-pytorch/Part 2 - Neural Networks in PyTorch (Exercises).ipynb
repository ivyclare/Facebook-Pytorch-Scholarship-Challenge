{
 "cells": [
  {
   "cell_type": "markdown",
   "metadata": {},
   "source": [
    "# Neural networks with PyTorch\n",
    "\n",
    "Deep learning networks tend to be massive with dozens or hundreds of layers, that's where the term \"deep\" comes from. You can build one of these deep networks using only weight matrices as we did in the previous notebook, but in general it's very cumbersome and difficult to implement. PyTorch has a nice module `nn` that provides a nice way to efficiently build large neural networks."
   ]
  },
  {
   "cell_type": "code",
   "execution_count": 1,
   "metadata": {},
   "outputs": [],
   "source": [
    "# Import necessary packages\n",
    "\n",
    "%matplotlib inline\n",
    "%config InlineBackend.figure_format = 'retina'\n",
    "\n",
    "import numpy as np\n",
    "import torch\n",
    "\n",
    "import helper\n",
    "\n",
    "import matplotlib.pyplot as plt"
   ]
  },
  {
   "cell_type": "markdown",
   "metadata": {},
   "source": [
    "\n",
    "Now we're going to build a larger network that can solve a (formerly) difficult problem, identifying text in an image. Here we'll use the MNIST dataset which consists of greyscale handwritten digits. Each image is 28x28 pixels, you can see a sample below\n",
    "\n",
    "<img src='assets/mnist.png'>\n",
    "\n",
    "Our goal is to build a neural network that can take one of these images and predict the digit in the image.\n",
    "\n",
    "First up, we need to get our dataset. This is provided through the `torchvision` package. The code below will download the MNIST dataset, then create training and test datasets for us. Don't worry too much about the details here, you'll learn more about this later."
   ]
  },
  {
   "cell_type": "code",
   "execution_count": 2,
   "metadata": {},
   "outputs": [],
   "source": [
    "### Run this cell\n",
    "\n",
    "from torchvision import datasets, transforms\n",
    "\n",
    "# Define a transform to normalize the data\n",
    "transform = transforms.Compose([transforms.ToTensor(),\n",
    "                              transforms.Normalize((0.5,), (0.5,)),\n",
    "                              ])\n",
    "\n",
    "# Download and load the training data\n",
    "trainset = datasets.MNIST('~/.pytorch/MNIST_data/', download=True, train=True, transform=transform)\n",
    "trainloader = torch.utils.data.DataLoader(trainset, batch_size=64, shuffle=True)"
   ]
  },
  {
   "cell_type": "markdown",
   "metadata": {},
   "source": [
    "We have the training data loaded into `trainloader` and we make that an iterator with `iter(trainloader)`. Later, we'll use this to loop through the dataset for training, like\n",
    "\n",
    "```python\n",
    "for image, label in trainloader:\n",
    "    ## do things with images and labels\n",
    "```\n",
    "\n",
    "You'll notice I created the `trainloader` with a batch size of 64, and `shuffle=True`. The batch size is the number of images we get in one iteration from the data loader and pass through our network, often called a *batch*. And `shuffle=True` tells it to shuffle the dataset every time we start going through the data loader again. But here I'm just grabbing the first batch so we can check out the data. We can see below that `images` is just a tensor with size `(64, 1, 28, 28)`. So, 64 images per batch, 1 color channel, and 28x28 images."
   ]
  },
  {
   "cell_type": "code",
   "execution_count": 3,
   "metadata": {},
   "outputs": [
    {
     "name": "stdout",
     "output_type": "stream",
     "text": [
      "<class 'torch.Tensor'>\n",
      "torch.Size([64, 1, 28, 28])\n",
      "torch.Size([64])\n"
     ]
    }
   ],
   "source": [
    "dataiter = iter(trainloader)\n",
    "images, labels = dataiter.next()\n",
    "print(type(images))\n",
    "print(images.shape)\n",
    "print(labels.shape)"
   ]
  },
  {
   "cell_type": "markdown",
   "metadata": {},
   "source": [
    "This is what one of the images looks like. "
   ]
  },
  {
   "cell_type": "code",
   "execution_count": 4,
   "metadata": {},
   "outputs": [
    {
     "data": {
      "image/png": "[encoded data removed]",
      "text/plain": [
       "<Figure size 432x288 with 1 Axes>"
      ]
     },
     "metadata": {
      "image/png": {
       "height": 250,
       "width": 253
      },
      "needs_background": "light"
     },
     "output_type": "display_data"
    }
   ],
   "source": [
    "plt.imshow(images[1].numpy().squeeze(), cmap='Greys_r');"
   ]
  },
  {
   "cell_type": "markdown",
   "metadata": {},
   "source": [
    "First, let's try to build a simple network for this dataset using weight matrices and matrix multiplications. Then, we'll see how to do it using PyTorch's `nn` module which provides a much more convenient and powerful method for defining network architectures.\n",
    "\n",
    "The networks you've seen so far are called *fully-connected* or *dense* networks. Each unit in one layer is connected to each unit in the next layer. In fully-connected networks, the input to each layer must be a one-dimensional vector (which can be stacked into a 2D tensor as a batch of multiple examples). However, our images are 28x28 2D tensors, so we need to convert them into 1D vectors. Thinking about sizes, we need to convert the batch of images with shape `(64, 1, 28, 28)` to a have a shape of `(64, 784)`, 784 is 28 times 28. This is typically called *flattening*, we flattened the 2D images into 1D vectors.\n",
    "\n",
    "Previously you built a network with one output unit. Here we need 10 output units, one for each digit. We want our network to predict the digit shown in an image, so what we'll do is calculate probabilities that the image is of any one digit or class. This ends up being a discrete probability distribution over the classes (digits) that tells us the most likely class for the image. That means we need 10 output units for the 10 classes (digits). We'll see how to convert the network output into a probability distribution next.\n",
    "\n",
    "> **Exercise:** Flatten the batch of images `images`. Then build a multi-layer network with 784 input units, 256 hidden units, and 10 output units using random tensors for the weights and biases. For now, use a sigmoid activation for the hidden layer. Leave the output layer without an activation, we'll add one that gives us a probability distribution next."
   ]
  },
  {
   "cell_type": "code",
   "execution_count": 5,
   "metadata": {},
   "outputs": [
    {
     "name": "stdout",
     "output_type": "stream",
     "text": [
      "tensor([[-4.9188e+00,  3.1029e+00,  4.0365e-01, -8.2620e-01, -7.2325e-01,\n",
      "          2.5492e+00,  1.3744e+01, -3.1990e-01,  9.7604e+00,  1.0946e+01],\n",
      "        [-2.5507e+00, -4.0953e+00, -2.5320e+00,  4.9664e+00, -1.9793e-01,\n",
      "          7.7589e+00, -7.6166e+00, -7.6846e-01,  6.9196e+00,  4.5465e+00],\n",
      "        [ 6.3968e-01,  4.5175e+00, -9.6000e+00, -2.4143e+00, -2.7600e+00,\n",
      "          1.4612e+00,  4.3152e+00,  5.2009e+00,  2.0378e+01,  6.4102e+00],\n",
      "        [-2.1270e+00,  5.9564e-01,  2.2713e+00,  1.4301e+00,  8.0272e+00,\n",
      "         -5.8365e+00,  3.9569e+00,  1.2463e+01,  2.2526e+01,  8.9535e+00],\n",
      "        [-6.3022e-01, -5.0676e-01, -1.1280e+01, -1.7685e+01,  5.2292e+00,\n",
      "         -1.8298e+00,  1.5381e+01, -1.2035e+00,  1.6482e+01,  2.3287e+00],\n",
      "        [-4.8690e+00,  6.2045e-01, -3.8732e+00, -1.5336e+01, -7.4237e-01,\n",
      "         -4.2884e-01,  9.8072e+00, -8.7848e+00,  1.0848e+01,  1.8276e+00],\n",
      "        [ 6.9103e+00, -2.7489e+00, -1.4349e+01, -1.5676e+00,  1.1696e+00,\n",
      "         -9.1467e+00,  8.1946e+00,  7.1059e+00,  1.0250e+01,  6.2928e+00],\n",
      "        [ 4.3995e+00,  7.4351e+00, -2.0544e-01, -6.7330e+00,  2.6626e+00,\n",
      "         -9.6501e-02,  1.1462e+01,  4.1300e-02,  9.3947e+00,  2.8096e+00],\n",
      "        [ 1.8843e+00,  1.9298e+00, -2.4487e+00, -6.1305e-01, -3.4379e+00,\n",
      "         -4.4890e+00,  1.3470e+01,  8.0146e+00,  8.8454e+00,  6.6388e+00],\n",
      "        [ 2.2525e+00, -1.7761e+00,  1.3674e+00,  1.6753e+00,  7.7510e+00,\n",
      "          1.1557e+01,  1.0420e+01,  8.6245e+00,  2.3462e+01,  2.7841e+00],\n",
      "        [-8.0051e+00, -1.0218e+01, -2.3895e+00, -2.1702e+00,  1.8309e+00,\n",
      "         -2.8034e+00,  3.2303e+00,  4.4084e+00,  2.2668e+01,  1.3729e+01],\n",
      "        [ 5.8432e+00, -6.2234e+00, -6.0187e+00,  3.0840e+00,  2.4710e+00,\n",
      "         -4.3967e+00,  1.0606e+01, -4.3043e-01,  1.5739e+01,  1.1767e+01],\n",
      "        [ 2.1099e+00, -2.2501e+00, -3.3551e+00, -1.0017e+01, -5.3835e+00,\n",
      "         -1.6998e+00,  8.9358e+00, -1.2411e+00,  8.0756e+00,  4.9936e+00],\n",
      "        [ 3.7247e+00, -1.5666e+00, -8.9122e+00, -8.8734e+00,  1.5240e+00,\n",
      "         -5.2359e+00,  4.2847e+00, -3.6677e+00,  2.1522e+01,  4.3858e+00],\n",
      "        [-1.1967e+00,  2.1931e+00,  9.4132e-01, -1.1822e+01,  3.3538e+00,\n",
      "         -4.7010e+00,  7.6779e+00, -2.4158e+00,  1.5158e+01,  1.0412e+00],\n",
      "        [-2.0509e+00,  3.6992e+00, -6.4058e+00, -2.9925e+00, -2.2321e-02,\n",
      "         -7.3991e+00,  1.6050e+01,  8.2503e+00,  1.1049e+01,  1.6615e+01],\n",
      "        [-7.3551e+00, -3.8094e+00, -8.3734e+00, -9.8768e+00,  2.1550e+00,\n",
      "          1.2348e+01, -5.7205e+00, -5.8736e+00,  9.0163e+00,  1.0509e+01],\n",
      "        [-3.3162e+00, -1.0411e+00,  8.0332e+00, -8.5181e+00,  8.1858e+00,\n",
      "          2.1554e-01,  7.2893e+00,  3.0864e+00,  1.8222e+01,  5.0605e+00],\n",
      "        [ 9.4605e-01,  6.0692e+00, -7.8495e+00, -2.7770e+00, -1.4872e-01,\n",
      "          2.6032e+00,  8.7329e+00, -3.5998e+00,  1.2677e+01,  1.2523e+00],\n",
      "        [ 4.2012e-01, -3.7049e+00, -1.3411e+01, -4.7147e+00,  4.2878e+00,\n",
      "          5.0519e+00,  6.9544e+00,  4.4018e-01,  1.0789e+01,  1.1891e+00],\n",
      "        [ 2.5100e+00,  2.2794e+00, -9.7121e+00, -2.9122e+00, -7.2436e+00,\n",
      "          6.2145e-02,  4.5318e+00,  5.5676e-01,  2.2920e+01,  9.1331e+00],\n",
      "        [ 5.0813e+00, -2.9795e+00, -2.3021e+01,  1.1345e+00,  1.2711e+00,\n",
      "         -2.5156e-01,  4.0478e-01,  4.8386e+00,  2.6239e+01,  6.7239e+00],\n",
      "        [-4.2889e+00,  4.4660e-01,  1.8909e+00, -5.0342e+00, -5.7279e+00,\n",
      "         -1.4797e+00,  8.0776e+00,  2.4664e+00,  1.1503e+01,  8.2018e+00],\n",
      "        [-8.7288e+00, -2.3019e+00, -2.1023e+00, -5.9341e+00, -3.7374e+00,\n",
      "         -4.7123e+00,  7.3490e+00,  5.8426e+00,  1.1485e+01,  8.6766e+00],\n",
      "        [-2.8707e+00, -7.4967e-02, -1.8168e+00, -4.5810e+00, -4.0598e+00,\n",
      "          5.7823e-01,  1.4650e+01,  1.3913e+00,  1.6799e+01,  1.1315e+01],\n",
      "        [-1.2069e+01,  1.0799e+01, -1.9613e+00, -1.1870e+01,  5.7295e+00,\n",
      "         -3.0349e+00,  3.6293e+00,  3.4449e+00,  1.8963e+01,  4.0570e+00],\n",
      "        [ 3.6998e+00, -5.7408e+00, -6.2611e-01, -3.3417e+00,  5.7913e+00,\n",
      "         -1.6677e-01,  4.9817e+00,  2.7244e+00,  1.8393e+01,  4.6908e+00],\n",
      "        [ 2.9130e+00,  8.2575e+00, -5.0505e+00, -4.3705e+00,  1.2268e+00,\n",
      "         -5.2829e+00,  7.0808e+00,  2.7311e+00,  2.7999e+01,  1.1550e+01],\n",
      "        [-4.2196e-01,  6.5797e+00, -4.7500e+00, -8.8768e+00,  2.1311e-01,\n",
      "          3.7930e+00,  7.8715e+00,  2.5666e+00,  1.1803e+01,  1.2323e+01],\n",
      "        [-3.0179e+00,  4.8211e+00, -5.8150e+00, -9.6501e+00,  2.2471e+00,\n",
      "          4.7875e+00,  6.4057e+00,  1.0795e+01,  2.1430e+01,  4.0998e+00],\n",
      "        [-6.3525e+00,  4.2285e+00,  2.6318e+00, -4.8665e+00, -3.5289e+00,\n",
      "          5.2041e-01,  1.6279e+01,  3.8991e+00,  2.0029e+01,  8.3235e+00],\n",
      "        [ 4.9902e-02,  1.0578e+00, -5.3203e+00, -3.2730e+00,  8.3712e+00,\n",
      "         -2.2522e+00,  3.9560e+00,  1.3094e+01,  1.7581e+01,  2.5506e+00],\n",
      "        [-9.2494e-01,  2.6774e+00,  7.3589e+00, -7.5011e+00,  1.9651e+00,\n",
      "          3.9889e+00,  1.8493e+01, -9.7738e-01,  2.3230e+01,  6.5329e+00],\n",
      "        [-4.1525e+00,  8.3006e+00,  3.1104e-01, -4.9712e-01,  4.1213e-01,\n",
      "         -2.8650e+00,  5.6466e+00,  1.7839e+00,  2.4689e+01,  7.7370e+00],\n",
      "        [-5.6055e+00, -1.1589e+01, -1.0414e+01, -1.1789e+01,  6.6068e+00,\n",
      "          7.2818e+00,  1.0196e+01,  4.9006e+00,  1.4860e+01,  1.6691e+01],\n",
      "        [ 1.2522e+00,  4.8477e+00, -5.4048e+00, -9.0512e+00,  1.0660e+01,\n",
      "         -1.3726e+01,  9.7457e+00, -6.5210e+00,  1.1519e+01,  7.0922e-01],\n",
      "        [-1.6048e+00,  2.0500e+00, -2.3078e+00, -8.3952e+00, -1.3267e+01,\n",
      "         -4.4708e+00,  8.1844e+00,  1.2860e+00,  6.3236e+00,  7.1527e+00],\n",
      "        [ 1.0410e+00,  3.6386e-01, -4.7368e+00, -9.4057e+00,  3.0613e+00,\n",
      "         -2.6335e+00,  9.2103e+00,  5.2257e+00,  1.4800e+01,  7.9486e+00],\n",
      "        [-1.9150e+00, -1.4821e+01, -4.0308e+00, -1.2484e+01, -4.9034e+00,\n",
      "          1.3782e+01,  5.8923e+00, -1.7058e+00,  2.0156e+01,  9.6401e+00],\n",
      "        [-4.3265e+00,  7.2687e+00, -4.7904e+00,  2.8893e+00,  3.5922e+00,\n",
      "         -4.9271e+00,  5.1175e+00,  6.5534e+00,  1.6674e+01,  9.1896e+00],\n",
      "        [-2.9729e+00, -2.9237e-01, -7.2762e+00,  2.0084e+00, -3.5830e-01,\n",
      "          6.6944e+00, -1.7323e+00,  8.5091e+00,  1.4739e+01,  3.8254e+00],\n",
      "        [-8.4264e+00, -9.3969e-01, -3.7141e+00, -7.1935e+00, -5.5257e+00,\n",
      "          8.2737e+00, -4.8805e+00,  3.1334e+00,  8.4266e+00,  3.8069e+00],\n",
      "        [-4.2756e+00,  7.8368e+00,  2.8798e+00,  7.9116e-02,  6.8954e+00,\n",
      "         -4.3363e+00,  1.2195e+01,  3.5620e+00,  2.1288e+01,  8.3975e+00],\n",
      "        [-1.8450e+00,  4.8261e+00,  1.9270e-01,  2.8745e+00,  4.9102e+00,\n",
      "          6.8749e+00,  1.0449e+01,  6.0587e+00,  1.6527e+01,  7.0912e+00],\n",
      "        [-3.2441e+00,  3.7311e+00,  3.9858e+00, -1.2724e+01,  1.5380e+01,\n",
      "         -1.3956e+00,  1.2715e+01,  9.6070e+00,  2.1044e+01,  1.0685e+01],\n",
      "        [-2.0035e+00,  3.0219e+00, -1.8678e+01, -6.0085e+00, -9.6206e-01,\n",
      "         -1.0857e+01,  4.5537e+00,  5.3459e+00,  1.4822e+01,  1.8196e+01],\n",
      "        [ 1.3382e+00,  4.1700e+00, -7.7320e+00, -1.4437e+00,  8.9775e+00,\n",
      "          6.3833e+00, -5.2813e+00,  5.6146e+00,  1.5932e+01,  3.7920e+00],\n",
      "        [-1.4212e+00, -7.7404e-01, -6.2287e+00, -1.4073e+01,  1.1748e+00,\n",
      "          6.4010e+00,  5.7795e+00,  4.1753e+00,  1.4985e+01,  1.3498e+01],\n",
      "        [ 9.1667e+00,  6.6614e-01, -1.8116e+01, -1.0668e+00,  6.6861e+00,\n",
      "          2.0019e+00,  1.2212e+01,  4.3935e+00,  1.5895e+01,  1.4139e+01],\n",
      "        [-4.3933e+00,  6.2192e+00, -1.5417e+01, -3.3939e+00,  4.5031e+00,\n",
      "         -4.6849e+00,  2.3278e+01,  6.4727e+00,  1.9548e+01,  1.9915e+01],\n",
      "        [ 7.0628e-01, -6.8126e+00, -4.4101e+00, -1.0009e+01, -1.4742e-01,\n",
      "          3.2375e+00,  1.5144e+00, -1.1600e+00,  1.3122e+01,  3.0155e+00],\n",
      "        [ 3.5297e+00, -1.4681e+00, -7.9338e+00, -6.7168e+00, -4.8952e+00,\n",
      "          6.6177e+00,  6.2629e+00,  9.4448e+00,  1.3651e+01,  7.9998e+00],\n",
      "        [-4.7421e+00,  5.5737e+00, -1.2629e+01, -8.8115e+00, -1.9407e+00,\n",
      "         -3.3252e+00,  6.1454e+00,  6.2157e+00,  1.9971e+01,  1.1237e+01],\n",
      "        [-4.6980e+00,  1.8143e+01,  3.0054e+00,  1.2540e+00,  9.1772e+00,\n",
      "         -4.2278e-01,  1.1186e+01,  7.2503e+00,  2.2314e+01,  1.1383e+01],\n",
      "        [ 5.3432e+00, -3.8811e+00,  1.1233e+00, -3.4797e+00, -1.9067e+00,\n",
      "          3.3279e+00,  1.4923e+00,  2.1186e+00,  1.4090e+01,  3.1817e+00],\n",
      "        [ 1.5829e+00, -6.3386e+00, -1.1735e+01, -1.1554e+01,  1.5517e+00,\n",
      "          7.1996e+00,  4.8931e+00,  8.8888e+00,  1.9277e+01,  1.4719e+01],\n",
      "        [-4.7165e+00,  2.6700e+00, -3.9819e+00, -5.4430e+00, -7.4223e+00,\n",
      "          5.0438e+00,  7.8849e+00, -5.0166e+00,  1.7055e+01,  5.4843e+00],\n",
      "        [-1.5780e+00,  8.1123e+00, -1.8300e+01, -1.5107e+00,  4.8981e+00,\n",
      "         -3.3137e+00,  2.7761e+00,  2.9692e+00,  1.5138e+01,  1.5599e+01],\n",
      "        [-4.8152e+00, -1.6783e+00, -1.2170e+01, -1.0032e+01,  5.1579e+00,\n",
      "          9.1788e+00,  9.7848e+00,  4.8766e+00,  1.9888e+01,  7.8614e+00],\n",
      "        [ 1.3854e+01, -1.7319e+00, -8.0278e+00, -8.9279e+00,  4.6969e+00,\n",
      "          9.3650e+00,  4.8559e+00,  1.7087e+00,  2.0109e+01,  4.8590e+00],\n",
      "        [ 1.3616e+00,  4.7024e+00, -7.4752e+00, -4.8287e+00,  3.0146e+00,\n",
      "          7.4639e+00,  2.0095e+00, -2.7735e+00,  8.3849e+00,  7.2662e+00],\n",
      "        [-3.7543e+00,  7.0408e+00, -4.7645e+00,  2.8504e+00,  7.8278e+00,\n",
      "          4.3212e+00,  8.4339e+00, -4.6313e-01,  1.3232e+01,  1.8566e+01],\n",
      "        [ 4.8550e+00, -8.2424e+00, -3.1446e+00, -2.9799e-02,  1.2741e-01,\n",
      "          3.1991e+00,  1.5454e+01,  1.6728e+01,  1.1931e+01,  1.5880e+01],\n",
      "        [ 2.4056e+00, -1.5396e+00, -3.7908e+00, -2.4059e+01, -1.1041e+00,\n",
      "          1.1392e+01,  1.1197e+01, -8.3942e-01,  8.0610e+00, -1.4193e-01]])\n"
     ]
    }
   ],
   "source": [
    "## Your solution\n",
    "def activation(x):\n",
    "    return 1/(1+torch.exp(-x))\n",
    "\n",
    "# Flattening images\n",
    "# Flatten the input images\n",
    "inputs = images.view(images.shape[0], -1)\n",
    "\n",
    "#Hyperparameters\n",
    "w1 = torch.randn(784, 256)\n",
    "b1 = torch.randn(256)\n",
    "\n",
    "w2 = torch.randn(256, 10)\n",
    "b2 = torch.randn(10)\n",
    "\n",
    "h = activation(torch.mm(inputs, w1) + b1)\n",
    "\n",
    "out = torch.mm(h, w2) + b2\n",
    "\n",
    "print(out)\n",
    " # output of your network, should have shape (64,10)"
   ]
  },
  {
   "cell_type": "markdown",
   "metadata": {},
   "source": [
    "Now we have 10 outputs for our network. We want to pass in an image to our network and get out a probability distribution over the classes that tells us the likely class(es) the image belongs to. Something that looks like this:\n",
    "<img src='assets/image_distribution.png' width=500px>\n",
    "\n",
    "Here we see that the probability for each class is roughly the same. This is representing an untrained network, it hasn't seen any data yet so it just returns a uniform distribution with equal probabilities for each class.\n",
    "\n",
    "To calculate this probability distribution, we often use the [**softmax** function](https://en.wikipedia.org/wiki/Softmax_function). Mathematically this looks like\n",
    "\n",
    "$$\n",
    "\\Large \\sigma(x_i) = \\cfrac{e^{x_i}}{\\sum_k^K{e^{x_k}}}\n",
    "$$\n",
    "\n",
    "What this does is squish each input $x_i$ between 0 and 1 and normalizes the values to give you a proper probability distribution where the probabilites sum up to one.\n",
    "\n",
    "> **Exercise:** Implement a function `softmax` that performs the softmax calculation and returns probability distributions for each example in the batch. Note that you'll need to pay attention to the shapes when doing this. If you have a tensor `a` with shape `(64, 10)` and a tensor `b` with shape `(64,)`, doing `a/b` will give you an error because PyTorch will try to do the division across the columns (called broadcasting) but you'll get a size mismatch. The way to think about this is for each of the 64 examples, you only want to divide by one value, the sum in the denominator. So you need `b` to have a shape of `(64, 1)`. This way PyTorch will divide the 10 values in each row of `a` by the one value in each row of `b`. Pay attention to how you take the sum as well. You'll need to define the `dim` keyword in `torch.sum`. Setting `dim=0` takes the sum across the rows while `dim=1` takes the sum across the columns."
   ]
  },
  {
   "cell_type": "code",
   "execution_count": 6,
   "metadata": {},
   "outputs": [
    {
     "name": "stdout",
     "output_type": "stream",
     "text": [
      "torch.Size([64, 10])\n",
      "tensor([1.0000, 1.0000, 1.0000, 1.0000, 1.0000, 1.0000, 1.0000, 1.0000, 1.0000,\n",
      "        1.0000, 1.0000, 1.0000, 1.0000, 1.0000, 1.0000, 1.0000, 1.0000, 1.0000,\n",
      "        1.0000, 1.0000, 1.0000, 1.0000, 1.0000, 1.0000, 1.0000, 1.0000, 1.0000,\n",
      "        1.0000, 1.0000, 1.0000, 1.0000, 1.0000, 1.0000, 1.0000, 1.0000, 1.0000,\n",
      "        1.0000, 1.0000, 1.0000, 1.0000, 1.0000, 1.0000, 1.0000, 1.0000, 1.0000,\n",
      "        1.0000, 1.0000, 1.0000, 1.0000, 1.0000, 1.0000, 1.0000, 1.0000, 1.0000,\n",
      "        1.0000, 1.0000, 1.0000, 1.0000, 1.0000, 1.0000, 1.0000, 1.0000, 1.0000,\n",
      "        1.0000])\n"
     ]
    }
   ],
   "source": [
    "def softmax(x):\n",
    "    ## TODO: Implement the softmax function here\n",
    "    return torch.exp(x)/torch.sum(torch.exp(x), dim=1).view(-1, 1)\n",
    "\n",
    "# Here, out should be the output of the network in the previous excercise with shape (64,10)\n",
    "probabilities = softmax(out)\n",
    "\n",
    "# Does it have the right shape? Should be (64, 10)\n",
    "print(probabilities.shape)\n",
    "# Does it sum to 1?\n",
    "print(probabilities.sum(dim=1))"
   ]
  },
  {
   "cell_type": "markdown",
   "metadata": {},
   "source": [
    "## Building networks with PyTorch\n",
    "\n",
    "PyTorch provides a module `nn` that makes building networks much simpler. Here I'll show you how to build the same one as above with 784 inputs, 256 hidden units, 10 output units and a softmax output."
   ]
  },
  {
   "cell_type": "code",
   "execution_count": 7,
   "metadata": {},
   "outputs": [],
   "source": [
    "from torch import nn"
   ]
  },
  {
   "cell_type": "code",
   "execution_count": 8,
   "metadata": {},
   "outputs": [],
   "source": [
    "class Network(nn.Module):\n",
    "    def __init__(self):\n",
    "        super().__init__()\n",
    "        \n",
    "        # Inputs to hidden layer linear transformation\n",
    "        self.hidden = nn.Linear(784, 256)\n",
    "        # Output layer, 10 units - one for each digit\n",
    "        self.output = nn.Linear(256, 10)\n",
    "        \n",
    "        # Define sigmoid activation and softmax output \n",
    "        self.sigmoid = nn.Sigmoid()\n",
    "        self.softmax = nn.Softmax(dim=1)\n",
    "        \n",
    "    def forward(self, x):\n",
    "        # Pass the input tensor through each of our operations\n",
    "        x = self.hidden(x)\n",
    "        x = self.sigmoid(x)\n",
    "        x = self.output(x)\n",
    "        x = self.softmax(x)\n",
    "        \n",
    "        return x"
   ]
  },
  {
   "cell_type": "markdown",
   "metadata": {},
   "source": [
    "Let's go through this bit by bit.\n",
    "\n",
    "```python\n",
    "class Network(nn.Module):\n",
    "```\n",
    "\n",
    "Here we're inheriting from `nn.Module`. Combined with `super().__init__()` this creates a class that tracks the architecture and provides a lot of useful methods and attributes. It is mandatory to inherit from `nn.Module` when you're creating a class for your network. The name of the class itself can be anything.\n",
    "\n",
    "```python\n",
    "self.hidden = nn.Linear(784, 256)\n",
    "```\n",
    "\n",
    "This line creates a module for a linear transformation, $x\\mathbf{W} + b$, with 784 inputs and 256 outputs and assigns it to `self.hidden`. The module automatically creates the weight and bias tensors which we'll use in the `forward` method. You can access the weight and bias tensors once the network (`net`) is created with `net.hidden.weight` and `net.hidden.bias`.\n",
    "\n",
    "```python\n",
    "self.output = nn.Linear(256, 10)\n",
    "```\n",
    "\n",
    "Similarly, this creates another linear transformation with 256 inputs and 10 outputs.\n",
    "\n",
    "```python\n",
    "self.sigmoid = nn.Sigmoid()\n",
    "self.softmax = nn.Softmax(dim=1)\n",
    "```\n",
    "\n",
    "Here I defined operations for the sigmoid activation and softmax output. Setting `dim=1` in `nn.Softmax(dim=1)` calculates softmax across the columns.\n",
    "\n",
    "```python\n",
    "def forward(self, x):\n",
    "```\n",
    "\n",
    "PyTorch networks created with `nn.Module` must have a `forward` method defined. It takes in a tensor `x` and passes it through the operations you defined in the `__init__` method.\n",
    "\n",
    "```python\n",
    "x = self.hidden(x)\n",
    "x = self.sigmoid(x)\n",
    "x = self.output(x)\n",
    "x = self.softmax(x)\n",
    "```\n",
    "\n",
    "Here the input tensor `x` is passed through each operation and reassigned to `x`. We can see that the input tensor goes through the hidden layer, then a sigmoid function, then the output layer, and finally the softmax function. It doesn't matter what you name the variables here, as long as the inputs and outputs of the operations match the network architecture you want to build. The order in which you define things in the `__init__` method doesn't matter, but you'll need to sequence the operations correctly in the `forward` method.\n",
    "\n",
    "Now we can create a `Network` object."
   ]
  },
  {
   "cell_type": "code",
   "execution_count": 9,
   "metadata": {},
   "outputs": [
    {
     "data": {
      "text/plain": [
       "Network(\n",
       "  (hidden): Linear(in_features=784, out_features=256, bias=True)\n",
       "  (output): Linear(in_features=256, out_features=10, bias=True)\n",
       "  (sigmoid): Sigmoid()\n",
       "  (softmax): Softmax()\n",
       ")"
      ]
     },
     "execution_count": 9,
     "metadata": {},
     "output_type": "execute_result"
    }
   ],
   "source": [
    "# Create the network and look at it's text representation\n",
    "model = Network()\n",
    "model"
   ]
  },
  {
   "cell_type": "markdown",
   "metadata": {},
   "source": [
    "You can define the network somewhat more concisely and clearly using the `torch.nn.functional` module. This is the most common way you'll see networks defined as many operations are simple element-wise functions. We normally import this module as `F`, `import torch.nn.functional as F`."
   ]
  },
  {
   "cell_type": "code",
   "execution_count": 10,
   "metadata": {},
   "outputs": [],
   "source": [
    "import torch.nn.functional as F\n",
    "\n",
    "class Network(nn.Module):\n",
    "    def __init__(self):\n",
    "        super().__init__()\n",
    "        # Inputs to hidden layer linear transformation\n",
    "        self.hidden = nn.Linear(784, 256)\n",
    "        # Output layer, 10 units - one for each digit\n",
    "        self.output = nn.Linear(256, 10)\n",
    "        \n",
    "    def forward(self, x):\n",
    "        # Hidden layer with sigmoid activation\n",
    "        x = F.sigmoid(self.hidden(x))\n",
    "        # Output layer with softmax activation\n",
    "        x = F.softmax(self.output(x), dim=1)\n",
    "        \n",
    "        return x"
   ]
  },
  {
   "cell_type": "markdown",
   "metadata": {},
   "source": [
    "### Activation functions\n",
    "\n",
    "So far we've only been looking at the sigmoid activation function, but in general any function can be used as an activation function. The only requirement is that for a network to approximate a non-linear function, the activation functions must be non-linear. Here are a few more examples of common activation functions: Tanh (hyperbolic tangent), and ReLU (rectified linear unit).\n",
    "\n",
    "<img src=\"assets/activation.png\" width=700px>\n",
    "\n",
    "In practice, the ReLU function is used almost exclusively as the activation function for hidden layers."
   ]
  },
  {
   "cell_type": "markdown",
   "metadata": {},
   "source": [
    "### Your Turn to Build a Network\n",
    "\n",
    "<img src=\"assets/mlp_mnist.png\" width=600px>\n",
    "\n",
    "> **Exercise:** Create a network with 784 input units, a hidden layer with 128 units and a ReLU activation, then a hidden layer with 64 units and a ReLU activation, and finally an output layer with a softmax activation as shown above. You can use a ReLU activation with the `nn.ReLU` module or `F.relu` function.\n",
    "\n",
    "It's good practice to name your layers by their type of network, for instance 'fc' to represent a fully-connected layer. As you code your solution, use `fc1`, `fc2`, and `fc3` as your layer names."
   ]
  },
  {
   "cell_type": "code",
   "execution_count": 11,
   "metadata": {
    "scrolled": true
   },
   "outputs": [],
   "source": [
    "## Your solution here\n",
    "from torch import nn\n",
    "import torch.nn.functional as F\n",
    "\n",
    "class Network(nn.Module):\n",
    "    def __init__(self):\n",
    "        super().__init__()\n",
    "        # Inputs to Hidden Layers\n",
    "        self.hidden1 = nn.Linear(784,128)\n",
    "        # Inputs to hidden layer linear transformation\n",
    "        self.hidden2 = nn.Linear(128, 64)\n",
    "        # Output layer, 10 units - one for each digit\n",
    "        self.output = nn.Linear(64, 10)\n",
    "        \n",
    "         \n",
    "    def forward(self, x):\n",
    "        # Hidden layer with sigmoid activation\n",
    "        x = F.relu(self.hidden1(x))\n",
    "        x = F.relu(self.hidden2(x))\n",
    "        # Output layer with softmax activation\n",
    "        x = F.softmax(self.output(x), dim=1)\n",
    "        \n",
    "        return x\n"
   ]
  },
  {
   "cell_type": "markdown",
   "metadata": {},
   "source": [
    "### Initializing weights and biases\n",
    "\n",
    "The weights and such are automatically initialized for you, but it's possible to customize how they are initialized. The weights and biases are tensors attached to the layer you defined, you can get them with `model.fc1.weight` for instance."
   ]
  },
  {
   "cell_type": "code",
   "execution_count": 14,
   "metadata": {},
   "outputs": [
    {
     "ename": "AttributeError",
     "evalue": "'Network' object has no attribute 'fc1'",
     "output_type": "error",
     "traceback": [
      "\u001b[0;31m---------------------------------------------------------------------------\u001b[0m",
      "\u001b[0;31mAttributeError\u001b[0m                            Traceback (most recent call last)",
      "\u001b[0;32m<ipython-input-14-59b34e7f797b>\u001b[0m in \u001b[0;36m<module>\u001b[0;34m\u001b[0m\n\u001b[0;32m----> 1\u001b[0;31m \u001b[0mprint\u001b[0m\u001b[0;34m(\u001b[0m\u001b[0mmodel\u001b[0m\u001b[0;34m.\u001b[0m\u001b[0mfc1\u001b[0m\u001b[0;34m.\u001b[0m\u001b[0mweight\u001b[0m\u001b[0;34m)\u001b[0m\u001b[0;34m\u001b[0m\u001b[0;34m\u001b[0m\u001b[0m\n\u001b[0m\u001b[1;32m      2\u001b[0m \u001b[0mprint\u001b[0m\u001b[0;34m(\u001b[0m\u001b[0mmodel\u001b[0m\u001b[0;34m.\u001b[0m\u001b[0mfc1\u001b[0m\u001b[0;34m.\u001b[0m\u001b[0mbias\u001b[0m\u001b[0;34m)\u001b[0m\u001b[0;34m\u001b[0m\u001b[0;34m\u001b[0m\u001b[0m\n",
      "\u001b[0;32m~/anaconda3/lib/python3.7/site-packages/torch/nn/modules/module.py\u001b[0m in \u001b[0;36m__getattr__\u001b[0;34m(self, name)\u001b[0m\n\u001b[1;32m    533\u001b[0m                 \u001b[0;32mreturn\u001b[0m \u001b[0mmodules\u001b[0m\u001b[0;34m[\u001b[0m\u001b[0mname\u001b[0m\u001b[0;34m]\u001b[0m\u001b[0;34m\u001b[0m\u001b[0;34m\u001b[0m\u001b[0m\n\u001b[1;32m    534\u001b[0m         raise AttributeError(\"'{}' object has no attribute '{}'\".format(\n\u001b[0;32m--> 535\u001b[0;31m             type(self).__name__, name))\n\u001b[0m\u001b[1;32m    536\u001b[0m \u001b[0;34m\u001b[0m\u001b[0m\n\u001b[1;32m    537\u001b[0m     \u001b[0;32mdef\u001b[0m \u001b[0m__setattr__\u001b[0m\u001b[0;34m(\u001b[0m\u001b[0mself\u001b[0m\u001b[0;34m,\u001b[0m \u001b[0mname\u001b[0m\u001b[0;34m,\u001b[0m \u001b[0mvalue\u001b[0m\u001b[0;34m)\u001b[0m\u001b[0;34m:\u001b[0m\u001b[0;34m\u001b[0m\u001b[0;34m\u001b[0m\u001b[0m\n",
      "\u001b[0;31mAttributeError\u001b[0m: 'Network' object has no attribute 'fc1'"
     ]
    }
   ],
   "source": [
    "print(model.fc1.weight)\n",
    "print(model.fc1.bias)"
   ]
  },
  {
   "cell_type": "markdown",
   "metadata": {},
   "source": [
    "For custom initialization, we want to modify these tensors in place. These are actually autograd *Variables*, so we need to get back the actual tensors with `model.fc1.weight.data`. Once we have the tensors, we can fill them with zeros (for biases) or random normal values."
   ]
  },
  {
   "cell_type": "code",
   "execution_count": null,
   "metadata": {
    "collapsed": true
   },
   "outputs": [],
   "source": [
    "# Set biases to all zeros\n",
    "model.fc1.bias.data.fill_(0)"
   ]
  },
  {
   "cell_type": "code",
   "execution_count": null,
   "metadata": {
    "collapsed": true
   },
   "outputs": [],
   "source": [
    "# sample from random normal with standard dev = 0.01\n",
    "model.fc1.weight.data.normal_(std=0.01)"
   ]
  },
  {
   "cell_type": "markdown",
   "metadata": {},
   "source": [
    "### Forward pass\n",
    "\n",
    "Now that we have a network, let's see what happens when we pass in an image."
   ]
  },
  {
   "cell_type": "code",
   "execution_count": 13,
   "metadata": {},
   "outputs": [
    {
     "data": {
      "image/png": "[encoded data removed]",
      "text/plain": [
       "<Figure size 432x648 with 2 Axes>"
      ]
     },
     "metadata": {
      "image/png": {
       "height": 226,
       "width": 423
      },
      "needs_background": "light"
     },
     "output_type": "display_data"
    }
   ],
   "source": [
    "# Grab some data \n",
    "dataiter = iter(trainloader)\n",
    "images, labels = dataiter.next()\n",
    "\n",
    "# Resize images into a 1D vector, new shape is (batch size, color channels, image pixels) \n",
    "images.resize_(64, 1, 784)\n",
    "# or images.resize_(images.shape[0], 1, 784) to automatically get batch size\n",
    "\n",
    "# Forward pass through the network\n",
    "img_idx = 0\n",
    "ps = model.forward(images[img_idx,:])\n",
    "\n",
    "img = images[img_idx]\n",
    "helper.view_classify(img.view(1, 28, 28), ps)"
   ]
  },
  {
   "cell_type": "markdown",
   "metadata": {},
   "source": [
    "As you can see above, our network has basically no idea what this digit is. It's because we haven't trained it yet, all the weights are random!\n",
    "\n",
    "### Using `nn.Sequential`\n",
    "\n",
    "PyTorch provides a convenient way to build networks like this where a tensor is passed sequentially through operations, `nn.Sequential` ([documentation](https://pytorch.org/docs/master/nn.html#torch.nn.Sequential)). Using this to build the equivalent network:"
   ]
  },
  {
   "cell_type": "code",
   "execution_count": 15,
   "metadata": {},
   "outputs": [
    {
     "name": "stdout",
     "output_type": "stream",
     "text": [
      "Sequential(\n",
      "  (0): Linear(in_features=784, out_features=128, bias=True)\n",
      "  (1): ReLU()\n",
      "  (2): Linear(in_features=128, out_features=64, bias=True)\n",
      "  (3): ReLU()\n",
      "  (4): Linear(in_features=64, out_features=10, bias=True)\n",
      "  (5): Softmax()\n",
      ")\n"
     ]
    },
    {
     "data": {
      "image/png": "[encoded data removed]",
      "text/plain": [
       "<Figure size 432x648 with 2 Axes>"
      ]
     },
     "metadata": {
      "image/png": {
       "height": 226,
       "width": 423
      },
      "needs_background": "light"
     },
     "output_type": "display_data"
    }
   ],
   "source": [
    "# Hyperparameters for our network\n",
    "input_size = 784\n",
    "hidden_sizes = [128, 64]\n",
    "output_size = 10\n",
    "\n",
    "# Build a feed-forward network\n",
    "model = nn.Sequential(nn.Linear(input_size, hidden_sizes[0]),\n",
    "                      nn.ReLU(),\n",
    "                      nn.Linear(hidden_sizes[0], hidden_sizes[1]),\n",
    "                      nn.ReLU(),\n",
    "                      nn.Linear(hidden_sizes[1], output_size),\n",
    "                      nn.Softmax(dim=1))\n",
    "print(model)\n",
    "\n",
    "# Forward pass through the network and display output\n",
    "images, labels = next(iter(trainloader))\n",
    "images.resize_(images.shape[0], 1, 784)\n",
    "ps = model.forward(images[0,:])\n",
    "helper.view_classify(images[0].view(1, 28, 28), ps)"
   ]
  },
  {
   "cell_type": "markdown",
   "metadata": {},
   "source": [
    "Here our model is the same as before: 784 input units, a hidden layer with 128 units, ReLU activation, 64 unit hidden layer, another ReLU, then the output layer with 10 units, and the softmax output.\n",
    "\n",
    "The operations are available by passing in the appropriate index. For example, if you want to get first Linear operation and look at the weights, you'd use `model[0]`."
   ]
  },
  {
   "cell_type": "code",
   "execution_count": 16,
   "metadata": {},
   "outputs": [
    {
     "name": "stdout",
     "output_type": "stream",
     "text": [
      "Linear(in_features=784, out_features=128, bias=True)\n"
     ]
    },
    {
     "data": {
      "text/plain": [
       "Parameter containing:\n",
       "tensor([[ 0.0176, -0.0248,  0.0103,  ...,  0.0222,  0.0243, -0.0046],\n",
       "        [-0.0211, -0.0193, -0.0160,  ...,  0.0280,  0.0192,  0.0244],\n",
       "        [ 0.0076,  0.0281, -0.0139,  ..., -0.0124,  0.0300, -0.0036],\n",
       "        ...,\n",
       "        [ 0.0026,  0.0059,  0.0176,  ...,  0.0092, -0.0273,  0.0042],\n",
       "        [-0.0247,  0.0266, -0.0348,  ..., -0.0307,  0.0276, -0.0121],\n",
       "        [-0.0169,  0.0074,  0.0045,  ...,  0.0004, -0.0191,  0.0008]],\n",
       "       requires_grad=True)"
      ]
     },
     "execution_count": 16,
     "metadata": {},
     "output_type": "execute_result"
    }
   ],
   "source": [
    "print(model[0])\n",
    "model[0].weight"
   ]
  },
  {
   "cell_type": "markdown",
   "metadata": {},
   "source": [
    "You can also pass in an `OrderedDict` to name the individual layers and operations, instead of using incremental integers. Note that dictionary keys must be unique, so _each operation must have a different name_."
   ]
  },
  {
   "cell_type": "code",
   "execution_count": 17,
   "metadata": {},
   "outputs": [
    {
     "data": {
      "text/plain": [
       "Sequential(\n",
       "  (fc1): Linear(in_features=784, out_features=128, bias=True)\n",
       "  (relu1): ReLU()\n",
       "  (fc2): Linear(in_features=128, out_features=64, bias=True)\n",
       "  (relu2): ReLU()\n",
       "  (output): Linear(in_features=64, out_features=10, bias=True)\n",
       "  (softmax): Softmax()\n",
       ")"
      ]
     },
     "execution_count": 17,
     "metadata": {},
     "output_type": "execute_result"
    }
   ],
   "source": [
    "from collections import OrderedDict\n",
    "model = nn.Sequential(OrderedDict([\n",
    "                      ('fc1', nn.Linear(input_size, hidden_sizes[0])),\n",
    "                      ('relu1', nn.ReLU()),\n",
    "                      ('fc2', nn.Linear(hidden_sizes[0], hidden_sizes[1])),\n",
    "                      ('relu2', nn.ReLU()),\n",
    "                      ('output', nn.Linear(hidden_sizes[1], output_size)),\n",
    "                      ('softmax', nn.Softmax(dim=1))]))\n",
    "model"
   ]
  },
  {
   "cell_type": "markdown",
   "metadata": {},
   "source": [
    "Now you can access layers either by integer or the name"
   ]
  },
  {
   "cell_type": "code",
   "execution_count": null,
   "metadata": {
    "collapsed": true
   },
   "outputs": [],
   "source": [
    "print(model[0])\n",
    "print(model.fc1)"
   ]
  },
  {
   "cell_type": "markdown",
   "metadata": {},
   "source": [
    "In the next notebook, we'll see how we can train a neural network to accuractly predict the numbers appearing in the MNIST images."
   ]
  }
 ],
 "metadata": {
  "kernelspec": {
   "display_name": "Python 3",
   "language": "python",
   "name": "python3"
  },
  "language_info": {
   "codemirror_mode": {
    "name": "ipython",
    "version": 3
   },
   "file_extension": ".py",
   "mimetype": "text/x-python",
   "name": "python",
   "nbconvert_exporter": "python",
   "pygments_lexer": "ipython3",
   "version": "3.7.1"
  }
 },
 "nbformat": 4,
 "nbformat_minor": 2
}
